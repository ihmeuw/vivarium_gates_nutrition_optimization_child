{
 "cells": [
  {
   "cell_type": "code",
   "execution_count": 15,
   "metadata": {},
   "outputs": [],
   "source": [
    "from vivarium import Artifact\n",
    "import pandas as pd"
   ]
  },
  {
   "cell_type": "code",
   "execution_count": 16,
   "metadata": {},
   "outputs": [],
   "source": [
    "old_artifact = Artifact('/mnt/team/simulation_science/pub/models/vivarium_gates_nutrition_optimization_child/artifacts/model_15.0/pakistan.hdf')\n",
    "new_artifact = Artifact('/mnt/team/simulation_science/pub/models/vivarium_gates_nutrition_optimization_child/artifacts/mean/pakistan.hdf')\n"
   ]
  },
  {
   "cell_type": "code",
   "execution_count": 17,
   "metadata": {},
   "outputs": [
    {
     "data": {
      "text/plain": [
       "['metadata.keyspace', 'metadata.locations', 'population.location']"
      ]
     },
     "execution_count": 17,
     "metadata": {},
     "output_type": "execute_result"
    }
   ],
   "source": [
    "keys_list =new_artifact.keys\n",
    "keys_list"
   ]
  },
  {
   "cell_type": "code",
   "execution_count": 18,
   "metadata": {},
   "outputs": [],
   "source": [
    "for key in old_artifact.keys:\n",
    "    if key in list(['metadata.keyspace','metadata.locations','population.location']):\n",
    "        continue\n",
    "    data = old_artifact.load(key)\n",
    "    old_artifact.remove(key)\n",
    "    if isinstance(data, pd.DataFrame) and 'draw_0' in data.columns and data['draw_0'].dtype == float:\n",
    "        data['mean_draw'] = data.filter(like='draw_').mean(axis=1)\n",
    "        data = data.drop(columns=data.filter(like='draw_').columns)\n",
    "        data = data.rename(columns={'mean_draw': 'draw_0'})\n",
    "        if \"exposure\" in key:\n",
    "            df_wide = data.unstack()\n",
    "            s_original_param_sums = df_wide.sum(axis=1)\n",
    "\n",
    "            # Normalize dataframe\n",
    "            df_normalized_wide = df_wide.div(s_original_param_sums, axis=0)\n",
    "            df_normalized = df_normalized_wide.stack()\n",
    "            data = df_normalized\n",
    "\n",
    "\n",
    "    new_artifact.write(key, data)"
   ]
  }
 ],
 "metadata": {
  "kernelspec": {
   "display_name": "artifact_child_v5",
   "language": "python",
   "name": "python3"
  },
  "language_info": {
   "codemirror_mode": {
    "name": "ipython",
    "version": 3
   },
   "file_extension": ".py",
   "mimetype": "text/x-python",
   "name": "python",
   "nbconvert_exporter": "python",
   "pygments_lexer": "ipython3",
   "version": "3.10.14"
  }
 },
 "nbformat": 4,
 "nbformat_minor": 2
}
